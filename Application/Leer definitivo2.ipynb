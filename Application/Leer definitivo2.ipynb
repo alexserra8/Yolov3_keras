{
 "cells": [
  {
   "cell_type": "markdown",
   "metadata": {},
   "source": [
    "# En este notebook se leen fotogramas de un video y se obtiene la foto (tambien la guarda) y predicción del label box"
   ]
  },
  {
   "cell_type": "code",
   "execution_count": 1,
   "metadata": {},
   "outputs": [],
   "source": [
    "import cv2\n",
    "import time\n",
    "import warnings; warnings.simplefilter('ignore')\n",
    "import os"
   ]
  },
  {
   "cell_type": "code",
   "execution_count": 2,
   "metadata": {},
   "outputs": [
    {
     "name": "stderr",
     "output_type": "stream",
     "text": [
      "Using TensorFlow backend.\n"
     ]
    },
    {
     "name": "stdout",
     "output_type": "stream",
     "text": [
      "WARNING:tensorflow:From C:\\Users\\alexs\\.conda\\envs\\Alex_R\\lib\\site-packages\\tensorflow\\python\\framework\\op_def_library.py:263: colocate_with (from tensorflow.python.framework.ops) is deprecated and will be removed in a future version.\n",
      "Instructions for updating:\n",
      "Colocations handled automatically by placer.\n",
      "--- 40.326754093170166 seconds ---\n"
     ]
    }
   ],
   "source": [
    "# Lanzamos nuestro otro notebook donde cargamos nuestro modelo y definimos las multiples funciones que usaremos\n",
    "start_time = time.time()\n",
    "%run FuncionesYolo.ipynb\n",
    "print(\"--- %s seconds ---\" % (time.time() - start_time))"
   ]
  },
  {
   "cell_type": "code",
   "execution_count": 3,
   "metadata": {},
   "outputs": [],
   "source": [
    "import winsound\n",
    "frequency = 3000  # Set Frequency To 3500 Hertz\n",
    "duration = 350  # Set Duration To 250 ms == 1/4 second\n",
    "frequency1=300   # Set Frequency To 300 Hertz\n",
    "winsound.Beep(frequency, duration)\n",
    "winsound.Beep(frequency1, duration)"
   ]
  },
  {
   "cell_type": "code",
   "execution_count": 31,
   "metadata": {},
   "outputs": [
    {
     "data": {
      "text/plain": [
       "{'ArrozCondis': 1.23,\n",
       " 'ArrozExtra': 1.75,\n",
       " 'HuevosFrescos': 2.22,\n",
       " 'HuevosLibertad': 3.99,\n",
       " 'KetchupCondis': 4.0,\n",
       " 'KetchupHeinz': 5.5,\n",
       " 'LecheAsturiana': 1.99,\n",
       " 'LecheAto': 2.5,\n",
       " 'MacarronesCondis': 0.99,\n",
       " 'MacarronesGallo': 1.75}"
      ]
     },
     "execution_count": 31,
     "metadata": {},
     "output_type": "execute_result"
    }
   ],
   "source": [
    "#definimos el listado de precios de cada producto\n",
    "precios=[1.23, 1.75, 2.22, 3.99, 4.00, 5.50, 1.99, 2.50, 0.99, 1.75]\n",
    "precio={}\n",
    "i=0\n",
    "for e in labels:\n",
    "    precio[e]=precios[i]\n",
    "    i=i+1\n",
    "precio    "
   ]
  },
  {
   "cell_type": "code",
   "execution_count": 32,
   "metadata": {},
   "outputs": [],
   "source": [
    "#definimos una funcion que nos calcula el precio total de la lista dados dos diccionarios, el de precios individual, y el de la lista de la compra\n",
    "def precioproductos(precio, lista_actual):\n",
    "    suma=0\n",
    "    for e in lista_actual:\n",
    "        if lista_actual[e]!=0:\n",
    "            valor= lista_actual[e]*precio[e]\n",
    "            suma=suma+valor        \n",
    "    \n",
    "    return suma"
   ]
  },
  {
   "cell_type": "code",
   "execution_count": 30,
   "metadata": {},
   "outputs": [
    {
     "data": {
      "text/plain": [
       "{'ArrozCondis': 1,\n",
       " 'ArrozExtra': 0,\n",
       " 'HuevosFrescos': 0,\n",
       " 'HuevosLibertad': 0,\n",
       " 'KetchupCondis': 0,\n",
       " 'KetchupHeinz': 1,\n",
       " 'LecheAsturiana': 0,\n",
       " 'LecheAto': 0,\n",
       " 'MacarronesCondis': 0,\n",
       " 'MacarronesGallo': 0}"
      ]
     },
     "execution_count": 30,
     "metadata": {},
     "output_type": "execute_result"
    }
   ],
   "source": [
    "d"
   ]
  },
  {
   "cell_type": "code",
   "execution_count": 29,
   "metadata": {},
   "outputs": [
    {
     "data": {
      "text/plain": [
       "6.73"
      ]
     },
     "execution_count": 29,
     "metadata": {},
     "output_type": "execute_result"
    }
   ],
   "source": [
    "precioproductos(precio, d)"
   ]
  },
  {
   "cell_type": "code",
   "execution_count": 4,
   "metadata": {},
   "outputs": [],
   "source": [
    "# definimos los inputs fijos de nuestro modelo (tamaño de la fotografia, anchors y el threshhold):\n",
    "input_w, input_h = 128, 128\n",
    "obj_thresh, nms_thresh = 0.5, 0.45\n",
    "anchors = [[10,13,  16,30,  33,23],[30,61, 62,45,  59,119],[116,90,  156,198,  373,326]]\n",
    "class_threshold = 0.85\n",
    "c= 15 # los fotograms que queremos queignore antes seleccionar el siguiente. 30 equivale a avanzar 1 segundo. 15 equivale a 0,5 segundos\n",
    "eliminamos = True #Si marcamos True, las imagenes seran eliminadas al instante. Las tenemos que crear temporalmente por el modelo."
   ]
  },
  {
   "cell_type": "code",
   "execution_count": 36,
   "metadata": {},
   "outputs": [
    {
     "name": "stdout",
     "output_type": "stream",
     "text": [
      "Hemos detectado el fotograma numero 0. No hay ningun productos detectado\n",
      "Hemos detectado el fotograma numero 1. No hay ningun productos detectado\n",
      "Hemos detectado el fotograma numero 2. No hay ningun productos detectado\n",
      "Hemos detectado el fotograma numero 3. Hemos detectado un nuevo producto: ArrozExtra\n",
      "Hemos detectado el fotograma numero 4. Parece ser que: ArrozExtra esta entrando\n",
      "1\n",
      "Hemos detectado el fotograma numero 5. Parece ser que: ArrozExtra esta entrando\n",
      "2\n",
      "Hemos detectado el fotograma numero 6. Parece ser que: ArrozExtra esta entrando\n",
      "3\n",
      "Hemos detectado el fotograma numero 7. No hay ningun productos detectado\n",
      "Hemos detectado el fotograma numero 8. No hay ningun productos detectado\n",
      "Validamos. Añadimos ArrozExtra a la lista de la compra\n",
      "\n",
      "La lista de la compra actual es:\n",
      "{'ArrozCondis': 0, 'ArrozExtra': 1, 'HuevosFrescos': 0, 'HuevosLibertad': 0, 'KetchupCondis': 0, 'KetchupHeinz': 0, 'LecheAsturiana': 0, 'LecheAto': 0, 'MacarronesCondis': 0, 'MacarronesGallo': 0}\n",
      "El precio total actual de la compra es de 1.75 €\n",
      "\n",
      "\n",
      "Hemos detectado el fotograma numero 9. No hay ningun productos detectado\n",
      "Hemos detectado el fotograma numero 10. No hay ningun productos detectado\n",
      "Hemos detectado el fotograma numero 11. No hay ningun productos detectado\n",
      "Hemos detectado el fotograma numero 12. No hay ningun productos detectado\n",
      "Hemos detectado el fotograma numero 13. No hay ningun productos detectado\n",
      "Hemos detectado el fotograma numero 14. No hay ningun productos detectado\n",
      "Hemos detectado el fotograma numero 15. Hemos detectado un nuevo producto: KetchupHeinz\n",
      "Hemos detectado el fotograma numero 16. Parece ser que: KetchupHeinz esta entrando\n",
      "1\n",
      "Hemos detectado el fotograma numero 17. Parece ser que: KetchupHeinz esta entrando\n",
      "2\n",
      "Hemos detectado el fotograma numero 18. No hay ningun productos detectado\n",
      "Hemos detectado el fotograma numero 19. No hay ningun productos detectado\n",
      "Validamos. Añadimos KetchupHeinz a la lista de la compra\n",
      "\n",
      "La lista de la compra actual es:\n",
      "{'ArrozCondis': 0, 'ArrozExtra': 1, 'HuevosFrescos': 0, 'HuevosLibertad': 0, 'KetchupCondis': 0, 'KetchupHeinz': 1, 'LecheAsturiana': 0, 'LecheAto': 0, 'MacarronesCondis': 0, 'MacarronesGallo': 0}\n",
      "El precio total actual de la compra es de 7.25 €\n",
      "\n",
      "\n",
      "\n",
      " \n",
      " Estamos en el fotograma 300 Y hemos estudiado un total de 20fotogramas\n",
      "Hemos estudiado 10.0 segundos de video \n",
      " \n",
      "\n",
      "Hemos detectado el fotograma numero 20. No hay ningun productos detectado\n",
      "Hemos detectado el fotograma numero 21. No hay ningun productos detectado\n",
      "Hemos detectado el fotograma numero 22. No hay ningun productos detectado\n",
      "Hemos detectado el fotograma numero 23. No hay ningun productos detectado\n",
      "Hemos detectado el fotograma numero 24. No hay ningun productos detectado\n",
      "Hemos detectado el fotograma numero 25. No hay ningun productos detectado\n",
      "Hemos detectado el fotograma numero 26. No hay ningun productos detectado\n",
      "Hemos detectado el fotograma numero 27. Hemos detectado un nuevo producto: ArrozCondis\n",
      "Hemos detectado el fotograma numero 28. Parece ser que: ArrozCondis esta entrando\n",
      "1\n",
      "Hemos detectado el fotograma numero 29. Parece ser que: ArrozCondis esta entrando\n",
      "2\n",
      "Hemos detectado el fotograma numero 30. Parece ser que: ArrozCondis esta entrando\n",
      "3\n",
      "Hemos detectado el fotograma numero 31. No hay ningun productos detectado\n",
      "Hemos detectado el fotograma numero 32. No hay ningun productos detectado\n",
      "Validamos. Añadimos ArrozCondis a la lista de la compra\n",
      "\n",
      "La lista de la compra actual es:\n",
      "{'ArrozCondis': 1, 'ArrozExtra': 1, 'HuevosFrescos': 0, 'HuevosLibertad': 0, 'KetchupCondis': 0, 'KetchupHeinz': 1, 'LecheAsturiana': 0, 'LecheAto': 0, 'MacarronesCondis': 0, 'MacarronesGallo': 0}\n",
      "El precio total actual de la compra es de 8.48 €\n",
      "\n",
      "\n",
      "Hemos detectado el fotograma numero 33. No hay ningun productos detectado\n",
      "Hemos detectado el fotograma numero 34. No hay ningun productos detectado\n",
      "Hemos detectado el fotograma numero 35. No hay ningun productos detectado\n",
      "Hemos detectado el fotograma numero 36. No hay ningun productos detectado\n",
      "Hemos detectado el fotograma numero 37. No hay ningun productos detectado\n",
      "Hemos detectado el fotograma numero 38. No hay ningun productos detectado\n",
      "Hemos detectado el fotograma numero 39. No hay ningun productos detectado\n",
      "\n",
      " \n",
      " Estamos en el fotograma 600 Y hemos estudiado un total de 40fotogramas\n",
      "Hemos estudiado 20.0 segundos de video \n",
      " \n",
      "\n",
      "Hemos detectado el fotograma numero 40. No hay ningun productos detectado\n",
      "Hemos detectado el fotograma numero 41. No hay ningun productos detectado\n",
      "Hemos detectado el fotograma numero 42. Hemos detectado un nuevo producto: ArrozExtra\n",
      "Hemos detectado el fotograma numero 43. Parece ser que: ArrozExtra esta saliendo\n",
      "Hemos detectado el fotograma numero 44. Parece ser que: ArrozExtra esta saliendo\n",
      "Hemos detectado el fotograma numero 45. Parece ser que: ArrozExtra esta saliendo\n",
      "Hemos detectado el fotograma numero 46. No hay ningun productos detectado\n",
      "Hemos detectado el fotograma numero 47. No hay ningun productos detectado\n",
      "Validamos. Quitamos ArrozExtra a la lista de la compra\n",
      "\n",
      "La lista de la compra actual es:\n",
      "{'ArrozCondis': 1, 'ArrozExtra': 0, 'HuevosFrescos': 0, 'HuevosLibertad': 0, 'KetchupCondis': 0, 'KetchupHeinz': 1, 'LecheAsturiana': 0, 'LecheAto': 0, 'MacarronesCondis': 0, 'MacarronesGallo': 0}\n",
      "El precio total actual de la compra es de 6.73 €\n",
      "\n",
      "\n",
      "[0, ['ArrozExtra', 'entrando'], 0, 0, 0, ['KetchupHeinz', 'entrando'], 0, 0, 0, ['ArrozCondis', 'entrando'], 0, 0, 0, 0, ['ArrozExtra', 'saliendo']]\n",
      "{'ArrozCondis': 1, 'ArrozExtra': 0, 'HuevosFrescos': 0, 'HuevosLibertad': 0, 'KetchupCondis': 0, 'KetchupHeinz': 1, 'LecheAsturiana': 0, 'LecheAto': 0, 'MacarronesCondis': 0, 'MacarronesGallo': 0}\n",
      "El precio total actual de la compra es de 6.73 €\n",
      "--- 19.376540422439575 seconds ---\n"
     ]
    }
   ],
   "source": [
    "d={}\n",
    "for e in labels:\n",
    "    d[e]=0\n",
    "start_time = time.time()\n",
    "\n",
    "#Importamos nuestro video\n",
    "cap = cv2.VideoCapture('IMG_3777.MOV')\n",
    "#cap = cv2.VideoCapture(2)\n",
    "count = 0\n",
    "l=[]\n",
    "z=0\n",
    "b=0\n",
    "a=0\n",
    "comp=0\n",
    "reto=0\n",
    "resultado=0\n",
    "s=0\n",
    "\n",
    "while cap.isOpened():\n",
    "    ret, frame = cap.read() #Accedemos a cada frame\n",
    "\n",
    "    if ret:\n",
    "        #start_time1 = time.time()\n",
    "        name='PruebaNotebook/frame'+str(count)+'.jpg' #Definimos donde guardamos nuestras fotografias\n",
    "        cv2.imwrite(name, frame)\n",
    "        #print(name + ' creado')\n",
    "        image, image_w, image_h = load_image_pixels(name, (net_w, net_w)) #Obtenemos nuestas imagenes con el formato deseado\n",
    "        yolos = yolov3.predict(image) #Hacemos la predicción de nuestro modelo\n",
    "        boxes = list()\n",
    "        for i in range(len(yolos)):\n",
    "            boxes += decode_netout(yolos[i][0], anchors[i], obj_thresh,  net_h, net_w) #decodificamos el outoput de la red\n",
    "        correct_yolo_boxes(boxes, image_h, image_w, net_h, net_w) #Corregimos el tamaño de los bounding boxes\n",
    "        do_nms(boxes, nms_thresh) #Eliminamos las non-maximal boxes\n",
    "        # get the details of the detected objects\n",
    "        v_boxes, v_labels, v_scores = get_boxes(boxes, labels, class_threshold) #Obtenemos los detalles del objeto detectado\n",
    "        \n",
    "        \n",
    "        \n",
    "        if len(v_boxes) == 0:\n",
    "            z=z+1\n",
    "            print(\"Hemos detectado el fotograma numero \" + str(s)+\". No hay ningun productos detectado\")\n",
    "            if z>=2:\n",
    "                z=0\n",
    "                comp=0\n",
    "                reto=0\n",
    "                a=0\n",
    "                b=0\n",
    "                \n",
    "\n",
    "                l.append(resultado)\n",
    "                if resultado!=0:\n",
    "                    if resultado[1]==\"entrando\":\n",
    "                        d[resultado[0]] = d.get(resultado[0], 0) + 1\n",
    "                        print(\"Validamos. Añadimos \" +str(resultado[0]) + \" a la lista de la compra\")\n",
    "                        winsound.Beep(frequency, duration)\n",
    "                       \n",
    "                    if resultado[1] == \"saliendo\":\n",
    "                        d[resultado[0]] = d.get(resultado[0], 0) - 1\n",
    "                        print(\"Validamos. Quitamos \" +str(resultado[0]) + \" a la lista de la compra\")\n",
    "                        winsound.Beep(frequency1, duration)\n",
    "                    print(\"\\nLa lista de la compra actual es:\")\n",
    "                    print(d)\n",
    "                    print(\"El precio total actual de la compra es de\", precioproductos(precio, d),\"€\")\n",
    "                    print(\"\\n\")\n",
    "                \n",
    "               \n",
    "                resultado=0\n",
    "            s=s+1\n",
    "        for i in range(len(v_boxes)):\n",
    "            #[v_labels[i], v_boxes[i].xmin]\n",
    "            if v_labels[i] == a:\n",
    "                if z>=3:\n",
    "                    z=0\n",
    "\n",
    "                dif= v_boxes[i].xmin - b\n",
    "                if dif >0:\n",
    "                    comp= comp +1\n",
    "                    print(\"Hemos detectado el fotograma numero \" + str(s)+\". Parece ser que: \" + str(a) + \" esta entrando\")\n",
    "                    print(comp)\n",
    "                    if comp>=2:\n",
    "                        resultado= [v_labels[i], \"entrando\"]\n",
    "                        z=0\n",
    "                    if comp>=2 and reto>=2:\n",
    "                        resultado=0\n",
    "                if dif<0:\n",
    "                    reto= reto +1\n",
    "                    print(\"Hemos detectado el fotograma numero \" + str(s)+\". Parece ser que: \" + str(a) + \" esta saliendo\")\n",
    "                    if reto>=2:\n",
    "                        resultado= [v_labels[i], \"saliendo\"]\n",
    "                        z=0\n",
    "                    if comp>=2 and reto>=2:\n",
    "                        resultado=0\n",
    "                a, b = v_labels[i], v_boxes[i].xmin\n",
    "                \n",
    "\n",
    "            else:\n",
    "                a, b = v_labels[i], v_boxes[i].xmin\n",
    "                print(\"Hemos detectado el fotograma numero \" + str(s)+\". Hemos detectado un nuevo producto: \" + str(a))\n",
    "\n",
    "            s=s+1\n",
    "\n",
    "            \n",
    "            \n",
    "            \n",
    "            \n",
    "        #draw_boxes(name, v_boxes, v_labels, v_scores) #Dibujamos nuestro fotografia con el objeto labelizado       \n",
    "    \n",
    "        count += c # Seleccionamos cuanto queremos que avance para seleccionar otro frame. Con 30 fps, avancamos 1 segundo\n",
    "        cap.set(1, count)\n",
    "        \n",
    "        if eliminamos == True: #Marcamos si queremos eliminar o no las imagenes creadas.\n",
    "            os.remove(name)\n",
    "        \n",
    "        if (count/30)%10 == 0:\n",
    "            print(\"\\n \\n Estamos en el fotograma \"+str(count)+\" Y hemos estudiado un total de \" +str(s)+\"fotogramas\")\n",
    "            print(\"Hemos estudiado \" + str(count/30) + \" segundos de video \\n \\n\")\n",
    "        \n",
    "\n",
    "    else:\n",
    "        cap.release()\n",
    "        break\n",
    "\n",
    "print(l)\n",
    "print(d)\n",
    "print(\"El precio total actual de la compra es de\", precioproductos(precio, d),\"€\")\n",
    "print(\"--- %s seconds ---\" % (time.time() - start_time))"
   ]
  },
  {
   "cell_type": "code",
   "execution_count": null,
   "metadata": {},
   "outputs": [],
   "source": []
  },
  {
   "cell_type": "code",
   "execution_count": 6,
   "metadata": {},
   "outputs": [
    {
     "data": {
      "text/plain": [
       "{'ArrozCondis': 0,\n",
       " 'ArrozExtra': 0,\n",
       " 'HuevosFrescos': 0,\n",
       " 'HuevosLibertad': 0,\n",
       " 'KetchupCondis': 0,\n",
       " 'KetchupHeinz': 0,\n",
       " 'LecheAsturiana': 0,\n",
       " 'LecheAto': 0,\n",
       " 'MacarronesCondis': 0,\n",
       " 'MacarronesGallo': 0}"
      ]
     },
     "execution_count": 6,
     "metadata": {},
     "output_type": "execute_result"
    }
   ],
   "source": [
    "d"
   ]
  },
  {
   "cell_type": "code",
   "execution_count": 7,
   "metadata": {},
   "outputs": [
    {
     "data": {
      "text/plain": [
       "[0,\n",
       " 0,\n",
       " 0,\n",
       " 0,\n",
       " ['ArrozExtra', 'entrando'],\n",
       " 0,\n",
       " 0,\n",
       " 0,\n",
       " ['ArrozExtra', 'saliendo'],\n",
       " 0,\n",
       " 0,\n",
       " 0]"
      ]
     },
     "execution_count": 7,
     "metadata": {},
     "output_type": "execute_result"
    }
   ],
   "source": [
    "l"
   ]
  },
  {
   "cell_type": "code",
   "execution_count": null,
   "metadata": {},
   "outputs": [],
   "source": []
  }
 ],
 "metadata": {
  "kernelspec": {
   "display_name": "Python 3",
   "language": "python",
   "name": "python3"
  },
  "language_info": {
   "codemirror_mode": {
    "name": "ipython",
    "version": 3
   },
   "file_extension": ".py",
   "mimetype": "text/x-python",
   "name": "python",
   "nbconvert_exporter": "python",
   "pygments_lexer": "ipython3",
   "version": "3.7.4"
  }
 },
 "nbformat": 4,
 "nbformat_minor": 2
}
