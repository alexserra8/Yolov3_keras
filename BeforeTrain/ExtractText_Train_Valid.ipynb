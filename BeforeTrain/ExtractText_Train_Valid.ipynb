{
 "cells": [
  {
   "cell_type": "markdown",
   "metadata": {},
   "source": [
    "### En este notebook, hacemos un split de los datos para entrenamiento y validacion. Generamos 2 *.txt con las rutas de las fotografias tal y como es preciso en el formato de yolo"
   ]
  },
  {
   "cell_type": "code",
   "execution_count": 1,
   "metadata": {},
   "outputs": [],
   "source": [
    "#Importamos las librerias necesarias\n",
    "from random import random\n",
    "from os import listdir\n",
    "from os.path import isfile, join"
   ]
  },
  {
   "cell_type": "code",
   "execution_count": 6,
   "metadata": {},
   "outputs": [],
   "source": [
    "#Especificamos la ubicacion donde tenemos todas las fotos que queremos que sean usadas para el dataset.\n",
    "mypath=\"C:/Users/alexs/Documents/MUDS/001_TFM/Fotos/Datset_final3/Imagenes\""
   ]
  },
  {
   "cell_type": "code",
   "execution_count": 7,
   "metadata": {},
   "outputs": [],
   "source": [
    "#Creamos dos documentos de train y de validation con el formato acpetado de Yolov3. Se intentara seguir una proporcion de 80% 20%.\n",
    "\n",
    "#Accedemos a todos los documentos de nuestra ubicacion marcada\n",
    "onlyfiles = [f for f in listdir(mypath) if isfile(join(mypath, f))]\n",
    "\n",
    "#Accedemos a cada documento y lo asignamos en funcion de un valor aleatorio, a train o validation.\n",
    "train = open(\"train3.txt\", \"w\")\n",
    "valid = open(\"valid3.txt\", \"w\")\n",
    "nv=0\n",
    "nt=0\n",
    "for e in onlyfiles:\n",
    "    \n",
    "    if random()<0.2:\n",
    "        valid.write(\"data/obj/final3/\"+e+\"\\n\")\n",
    "        nv=nv+1\n",
    "        \n",
    "    else:\n",
    "        train.write(\"data/obj/final3/\" + e+\"\\n\")\n",
    "        nt=nt+1\n",
    "    \n",
    "train.close()\n",
    "valid.close()"
   ]
  },
  {
   "cell_type": "code",
   "execution_count": 4,
   "metadata": {},
   "outputs": [
    {
     "name": "stdout",
     "output_type": "stream",
     "text": [
      "80.6638418079096\n",
      "19.336158192090394\n"
     ]
    }
   ],
   "source": [
    "#Comprobamos las proporciones de obtenidas tanto de entrenamiento como de validacion:\n",
    "total= nv + nt\n",
    "entr= nt/total*100\n",
    "vali= nv/total*100\n",
    "print(entr)\n",
    "print(vali)"
   ]
  },
  {
   "cell_type": "code",
   "execution_count": null,
   "metadata": {},
   "outputs": [],
   "source": []
  },
  {
   "cell_type": "code",
   "execution_count": null,
   "metadata": {},
   "outputs": [],
   "source": []
  },
  {
   "cell_type": "code",
   "execution_count": null,
   "metadata": {},
   "outputs": [],
   "source": []
  },
  {
   "cell_type": "code",
   "execution_count": null,
   "metadata": {},
   "outputs": [],
   "source": []
  },
  {
   "cell_type": "code",
   "execution_count": 6,
   "metadata": {},
   "outputs": [],
   "source": [
    "#Especificamos la ubicacion donde tenemos todas las fotos que queremos que sean usadas para el dataset.\n",
    "mypath1=\"C:/Users/alexs/Documents/MUDS/001_TFM/Fotos/Iniciales/Borrosas/Dataset_Final\""
   ]
  },
  {
   "cell_type": "code",
   "execution_count": 10,
   "metadata": {},
   "outputs": [],
   "source": [
    "#Creamos dos documentos de train y de validation con el formato acpetado de Yolov3. Se intentara seguir una proporcion de 80% 20%.\n",
    "\n",
    "#Accedemos a todos los documentos de nuestra ubicacion marcada\n",
    "onlyfiles = [f for f in listdir(mypath1) if isfile(join(mypath1, f))]\n",
    "\n",
    "#Accedemos a cada documento y lo asignamos en funcion de un valor aleatorio, a train o validation.\n",
    "train = open(\"Fotos/Iniciales/Borrosas/train.txt\", \"w\")\n",
    "valid = open(\"Fotos/Iniciales/Borrosas/valid.txt\", \"w\")\n",
    "nv=0\n",
    "nt=0\n",
    "for e in onlyfiles:\n",
    "    \n",
    "    if random()<0.2:\n",
    "        valid.write(\"data/obj/solo_borrosas/\"+e+\"\\n\")\n",
    "        nv=nv+1\n",
    "        \n",
    "    else:\n",
    "        train.write(\"data/obj/solo_borrosas/\" + e+\"\\n\")\n",
    "        nt=nt+1\n",
    "    \n",
    "train.close()\n",
    "valid.close()"
   ]
  },
  {
   "cell_type": "code",
   "execution_count": 11,
   "metadata": {},
   "outputs": [
    {
     "data": {
      "text/plain": [
       "900"
      ]
     },
     "execution_count": 11,
     "metadata": {},
     "output_type": "execute_result"
    }
   ],
   "source": [
    "len(onlyfiles)"
   ]
  },
  {
   "cell_type": "code",
   "execution_count": 12,
   "metadata": {},
   "outputs": [
    {
     "name": "stdout",
     "output_type": "stream",
     "text": [
      "80.66666666666666\n",
      "19.333333333333332\n"
     ]
    }
   ],
   "source": [
    "#Comprobamos las proporciones de obtenidas tanto de entrenamiento como de validacion:\n",
    "total= nv + nt\n",
    "entr= nt/total*100\n",
    "vali= nv/total*100\n",
    "print(entr)\n",
    "print(vali)"
   ]
  },
  {
   "cell_type": "code",
   "execution_count": 13,
   "metadata": {},
   "outputs": [
    {
     "data": {
      "text/plain": [
       "80.66666666666666"
      ]
     },
     "execution_count": 13,
     "metadata": {},
     "output_type": "execute_result"
    }
   ],
   "source": [
    "entr"
   ]
  },
  {
   "cell_type": "code",
   "execution_count": 14,
   "metadata": {},
   "outputs": [
    {
     "data": {
      "text/plain": [
       "174"
      ]
     },
     "execution_count": 14,
     "metadata": {},
     "output_type": "execute_result"
    }
   ],
   "source": [
    "nv\n"
   ]
  },
  {
   "cell_type": "code",
   "execution_count": 15,
   "metadata": {},
   "outputs": [
    {
     "data": {
      "text/plain": [
       "726"
      ]
     },
     "execution_count": 15,
     "metadata": {},
     "output_type": "execute_result"
    }
   ],
   "source": [
    "nt"
   ]
  },
  {
   "cell_type": "code",
   "execution_count": null,
   "metadata": {},
   "outputs": [],
   "source": []
  }
 ],
 "metadata": {
  "kernelspec": {
   "display_name": "Python 3",
   "language": "python",
   "name": "python3"
  },
  "language_info": {
   "codemirror_mode": {
    "name": "ipython",
    "version": 3
   },
   "file_extension": ".py",
   "mimetype": "text/x-python",
   "name": "python",
   "nbconvert_exporter": "python",
   "pygments_lexer": "ipython3",
   "version": "3.7.4"
  }
 },
 "nbformat": 4,
 "nbformat_minor": 2
}
