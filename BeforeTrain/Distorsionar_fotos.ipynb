{
 "cells": [
  {
   "cell_type": "markdown",
   "metadata": {},
   "source": [
    "# Empezamos el codigo"
   ]
  },
  {
   "cell_type": "markdown",
   "metadata": {},
   "source": [
    "### En este notebook, conseguimos distorsionar las fotos con ruido gausiano. Tambien guardamos la imagen y su respectiva labelización (que ya la teniamos)"
   ]
  },
  {
   "cell_type": "code",
   "execution_count": 1,
   "metadata": {},
   "outputs": [],
   "source": [
    "#Importamos librerias necesarias\n",
    "import numpy as np\n",
    "import cv2\n",
    "import matplotlib\n",
    "import matplotlib.pyplot as plt\n",
    "import shutil\n",
    "import os"
   ]
  },
  {
   "cell_type": "code",
   "execution_count": 2,
   "metadata": {},
   "outputs": [],
   "source": [
    "#Definimos donde se encuentran nuestras imagenes que queremos distorsionar\n",
    "mypath= \"C:/Users/alexs/Documents/MUDS/001_TFM/Fotos/Giradas/Fotos\""
   ]
  },
  {
   "cell_type": "code",
   "execution_count": 3,
   "metadata": {},
   "outputs": [
    {
     "data": {
      "text/plain": [
       "2360"
      ]
     },
     "execution_count": 3,
     "metadata": {},
     "output_type": "execute_result"
    }
   ],
   "source": [
    "#Creamos una lista con los documentos que hay en nuestra ubicacion y comprobamos su longitud\n",
    "from os import listdir\n",
    "from os.path import isfile, join\n",
    "onlyfiles = [f for f in listdir(mypath) if isfile(join(mypath, f))]\n",
    "len(onlyfiles)"
   ]
  },
  {
   "cell_type": "code",
   "execution_count": 4,
   "metadata": {},
   "outputs": [],
   "source": [
    "for e in onlyfiles:\n",
    "    img_path= os.path.join(mypath, e)\n",
    "    img = cv2.imread(img_path)[...,::-1]/255.0\n",
    "    noise =  np.random.normal(loc=0, scale=1, size=img.shape)\n",
    "    # Añadimos el ruido a la imagen\n",
    "    noisy = np.clip((img + noise*0.1),0,1)\n",
    "    noisy2 = np.clip((img + noise*0.2),0,1)\n",
    "    nombre1= 'Fotos/Borrosas/Fotos/'+e[:-4]+'a.jpg'\n",
    "    nombre2= 'Fotos/Borrosas/Fotos/'+e[:-4]+'a2.jpg'\n",
    "    matplotlib.image.imsave(nombre1, noisy) #Guardamos la imagen con ruido 1\n",
    "    matplotlib.image.imsave(nombre2, noisy2)#Guardamos la imagen con ruido 2\n",
    "    txt='Fotos/Giradas/Labels/'+e[:-4]+'.txt'\n",
    "    nombre1txt=  'Fotos/Borrosas/Label/'+e[:-4]+'a.txt' #Guardamos la labelizacón con formato txt\n",
    "    nombre2txt= 'Fotos/Borrosas/Label/'+e[:-4]+'a2.txt' #Guardamos la labelizacón con formato txt\n",
    "    shutil.copy(txt, nombre1txt)\n",
    "    shutil.copy(txt, nombre2txt)"
   ]
  },
  {
   "cell_type": "code",
   "execution_count": null,
   "metadata": {},
   "outputs": [],
   "source": []
  },
  {
   "cell_type": "code",
   "execution_count": null,
   "metadata": {},
   "outputs": [],
   "source": []
  },
  {
   "cell_type": "code",
   "execution_count": null,
   "metadata": {},
   "outputs": [],
   "source": []
  },
  {
   "cell_type": "code",
   "execution_count": null,
   "metadata": {},
   "outputs": [],
   "source": [
    "#Distorisionamos las fotos iniciales sin ser giradas."
   ]
  },
  {
   "cell_type": "code",
   "execution_count": 2,
   "metadata": {},
   "outputs": [],
   "source": [
    "mypath1= \"C:/Users/alexs/Documents/MUDS/001_TFM/Fotos/Iniciales/Fotos_Iniciales\""
   ]
  },
  {
   "cell_type": "code",
   "execution_count": 3,
   "metadata": {},
   "outputs": [
    {
     "data": {
      "text/plain": [
       "300"
      ]
     },
     "execution_count": 3,
     "metadata": {},
     "output_type": "execute_result"
    }
   ],
   "source": [
    "from os import listdir\n",
    "from os.path import isfile, join\n",
    "onlyfiles1 = [f for f in listdir(mypath1) if isfile(join(mypath1, f))]\n",
    "len(onlyfiles1)"
   ]
  },
  {
   "cell_type": "code",
   "execution_count": 6,
   "metadata": {},
   "outputs": [],
   "source": [
    "for e in onlyfiles1:\n",
    "    img_path= os.path.join(mypath1, e)\n",
    "    img = cv2.imread(img_path)[...,::-1]/255.0\n",
    "    noise =  np.random.normal(loc=0, scale=1, size=img.shape)\n",
    "    # Añadimos el ruido a la imagen\n",
    "    noisy = np.clip((img + noise*0.1),0,1)\n",
    "    noisy2 = np.clip((img + noise*0.2),0,1)\n",
    "    nombre1= 'Fotos/Iniciales/Borrosas/Fotos/'+e[:-4]+'a.jpg'\n",
    "    nombre2= 'Fotos/Iniciales/Borrosas/Fotos/'+e[:-4]+'a2.jpg'\n",
    "    matplotlib.image.imsave(nombre1, noisy) #Guardamos la imagen con ruido 1\n",
    "    matplotlib.image.imsave(nombre2, noisy2)#Guardamos la imagen con ruido 2\n",
    "    txt='Fotos/Iniciales/Labels/'+e[:-4]+'.txt'\n",
    "    nombre1txt=  'Fotos/Iniciales/Borrosas/Label/'+e[:-4]+'a.txt' #Guardamos la labelizacón con formato txt\n",
    "    nombre2txt= 'Fotos/Iniciales/Borrosas/Label/'+e[:-4]+'a2.txt' #Guardamos la labelizacón con formato txt\n",
    "    shutil.copy(txt, nombre1txt)\n",
    "    shutil.copy(txt, nombre2txt)"
   ]
  },
  {
   "cell_type": "markdown",
   "metadata": {},
   "source": [
    " "
   ]
  },
  {
   "cell_type": "markdown",
   "metadata": {},
   "source": [
    " "
   ]
  },
  {
   "cell_type": "markdown",
   "metadata": {},
   "source": [
    "## Ejemplo"
   ]
  },
  {
   "cell_type": "code",
   "execution_count": null,
   "metadata": {},
   "outputs": [],
   "source": [
    "import numpy as np\n",
    "import cv2\n",
    "import matplotlib.pyplot as plt\n",
    "\n",
    "img_path=\"C:/Users/alexs/Documents/MUDS/001_TFM/Fotos/Giradas/Fotos/ArrozCondis1_000.jpg\"\n",
    "img = cv2.imread(img_path)[...,::-1]/255.0\n",
    "noise =  np.random.normal(loc=0, scale=1, size=img.shape)\n",
    "\n",
    "# noise overlaid over image\n",
    "noisy = np.clip((img + noise*0.2),0,1)\n",
    "noisy2 = np.clip((img + noise*0.4),0,1)\n",
    "\n",
    "# noise multiplied by image:\n",
    "# whites can go to black but blacks cannot go to white\n",
    "noisy2mul = np.clip((img*(1 + noise*0.2)),0,1)\n",
    "noisy4mul = np.clip((img*(1 + noise*0.4)),0,1)\n",
    "\n",
    "noisy2mul = np.clip((img*(1 + noise*0.2)),0,1)\n",
    "noisy4mul = np.clip((img*(1 + noise*0.4)),0,1)\n",
    "\n",
    "# noise multiplied by bottom and top half images,\n",
    "# whites stay white blacks black, noise is added to center\n",
    "img2 = img*2\n",
    "n2 = np.clip(np.where(img2 <= 1, (img2*(1 + noise*0.2)), (1-img2+1)*(1 + noise*0.2)*-1 + 2)/2, 0,1)\n",
    "n4 = np.clip(np.where(img2 <= 1, (img2*(1 + noise*0.4)), (1-img2+1)*(1 + noise*0.4)*-1 + 2)/2, 0,1)\n",
    "\n",
    "\n",
    "# norm noise for viz only\n",
    "noise2 = (noise - noise.min())/(noise.max()-noise.min())\n",
    "plt.figure(figsize=(20,20))\n",
    "plt.imshow(np.vstack((np.hstack((img, noise2)),\n",
    "                      np.hstack((noisy, noisy2)),\n",
    "                      np.hstack((noisy2mul, noisy4mul)),\n",
    "                      np.hstack((n2, n4)))))\n",
    "plt.show()\n",
    "plt.hist(noise.ravel(), bins=100)\n",
    "plt.show()"
   ]
  }
 ],
 "metadata": {
  "kernelspec": {
   "display_name": "Python 3",
   "language": "python",
   "name": "python3"
  },
  "language_info": {
   "codemirror_mode": {
    "name": "ipython",
    "version": 3
   },
   "file_extension": ".py",
   "mimetype": "text/x-python",
   "name": "python",
   "nbconvert_exporter": "python",
   "pygments_lexer": "ipython3",
   "version": "3.7.4"
  }
 },
 "nbformat": 4,
 "nbformat_minor": 2
}
